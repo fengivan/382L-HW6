{
  "nbformat": 4,
  "nbformat_minor": 0,
  "metadata": {
    "colab": {
      "name": "HW6Part2.ipynb",
      "provenance": [],
      "collapsed_sections": [],
      "authorship_tag": "ABX9TyNM4v9AXySk8wONSx5ZnAPn",
      "include_colab_link": true
    },
    "kernelspec": {
      "name": "python3",
      "display_name": "Python 3"
    },
    "language_info": {
      "name": "python"
    }
  },
  "cells": [
    {
      "cell_type": "markdown",
      "metadata": {
        "id": "view-in-github",
        "colab_type": "text"
      },
      "source": [
        "<a href=\"https://colab.research.google.com/github/fengivan/382L-HW6/blob/main/HW6Part2.ipynb\" target=\"_parent\"><img src=\"https://colab.research.google.com/assets/colab-badge.svg\" alt=\"Open In Colab\"/></a>"
      ]
    },
    {
      "cell_type": "code",
      "metadata": {
        "colab": {
          "base_uri": "https://localhost:8080/",
          "height": 796
        },
        "id": "b41oYnOgr_U2",
        "outputId": "dbd435a2-8b0b-42b6-e20e-9dd153d15aa1"
      },
      "source": [
        "import numpy as np\n",
        "import matplotlib.pyplot as plt\n",
        "np.set_printoptions(linewidth=np.inf)\n",
        "plt.rcParams['figure.figsize'] = [10, 10]\n",
        "\n",
        "#initial conditions\n",
        "size=26\n",
        "deltax=1/(size-1)   #. 1/25\n",
        "deltat=.001\n",
        "u = np.zeros(size)\n",
        "v = np.zeros(size)\n",
        "for i in range(0,size):\n",
        "  u[i]=((deltax*i+1)/2)\n",
        "  v[i]=np.pi\n",
        "\n",
        "print(\"Delta X\")\n",
        "print(deltax)\n",
        "print(\"\")\n",
        "print(\"Delta T\")\n",
        "print(deltat)\n",
        "print(\"\")\n",
        "print(\"U\")\n",
        "print(np.around((u),4))\n",
        "print(\" \")\n",
        "print(\"V\")\n",
        "print(np.around((v),4))\n",
        "print(\" \")\n",
        "\n",
        "x = np.linspace(0, 1, 26)\n",
        "plt.plot( x,u, label=\"u\")\n",
        "plt.plot( x,v, label=\"v\")\n",
        "plt.legend(loc=\"upper left\")\n",
        "plt.show()"
      ],
      "execution_count": 416,
      "outputs": [
        {
          "output_type": "stream",
          "text": [
            "Delta X\n",
            "0.04\n",
            "\n",
            "Delta T\n",
            "0.001\n",
            "\n",
            "U\n",
            "[0.5  0.52 0.54 0.56 0.58 0.6  0.62 0.64 0.66 0.68 0.7  0.72 0.74 0.76 0.78 0.8  0.82 0.84 0.86 0.88 0.9  0.92 0.94 0.96 0.98 1.  ]\n",
            " \n",
            "V\n",
            "[3.1416 3.1416 3.1416 3.1416 3.1416 3.1416 3.1416 3.1416 3.1416 3.1416 3.1416 3.1416 3.1416 3.1416 3.1416 3.1416 3.1416 3.1416 3.1416 3.1416 3.1416 3.1416 3.1416 3.1416 3.1416 3.1416]\n",
            " \n"
          ],
          "name": "stdout"
        },
        {
          "output_type": "display_data",
          "data": {
            "image/png": "[encoded data removed]",
            "text/plain": [
              "<Figure size 720x720 with 1 Axes>"
            ]
          },
          "metadata": {
            "tags": [],
            "needs_background": "light"
          }
        }
      ]
    },
    {
      "cell_type": "code",
      "metadata": {
        "id": "2FtgF4gLuXT-"
      },
      "source": [
        "#builds the Jacobian Matrix of u and v\n",
        "def buildJacobian(u,v, size):\n",
        "  matrix=np.zeros((size*2,size*2))\n",
        "  matrix[0][0]=1      #boundry conditions u0=.5, v0=pi; d/du0 and d/dv0 gives just 1                   \n",
        "  matrix[1][1]=1\n",
        "  for i in range(1,size):   #makes the banded matrix\n",
        "    if i ==size-1:          #special boundary conditions at x=1\n",
        "      matrix[i*2][i*2-2]=-1/deltax #df/du(i-1)\n",
        "      matrix[i*2][i*2]= 1/deltax + np.cos(u[i]*v[i])*v[i] #df/du(i)\n",
        "      matrix[i*2][i*2+1]= np.cos(u[i]*v[i])*u[i] #df/dv(i)\n",
        "      matrix[i*2+1][i*2-1]= -1/deltax #df/dv(i-1)\n",
        "      matrix[i*2+1][i*2]= np.sin(u[i]*v[i])*v[i] #df/du(i)\n",
        "      matrix[i*2+1][i*2+1]= 1/deltax+np.sin(u[i]*v[i])*u[i] #df/dv(i)\n",
        "    else:                   #differential terms\n",
        "      matrix[i*2][i*2-2]=-(v[i]/deltax)**2+2*v[i]*(v[i]-v[i-1])/(deltax**2) #df/du(i-1)\n",
        "      matrix[i*2][i*2-1]=(2*v[i]/deltax)*(u[i]-u[i-1])/deltax #df/dv(i-1)\n",
        "      matrix[i*2][i*2]= 1/deltat+2*(v[i]/deltax)**2-2*(v[i]*(v[i]-v[i-1]))/(deltax**2) + v[i]-2*u[i] #df/du(i)\n",
        "      matrix[i*2][i*2+1]= (-2*v[i]*(u[i+1]-2*u[i]+u[i-1])/(deltax**2))-4*v[i]*(u[i]-u[i-1])/deltax**2+2*v[i]*(u[i]-u[i-1])/deltax**2+u[i] #df/dv(i)\n",
        "      matrix[i*2][i*2+2]=-(v[i]/deltax)**2   #df/du(i+1)\n",
        "      matrix[i*2+1][i*2-2]=2*u[i]*(v[i]-v[i-1])/deltax**2 - 1/deltax**2#df/du(i-1)\n",
        "      matrix[i*2+1][i*2-1]=-(u[i]/deltax)**2+2*u[i]*(u[i]-u[i-1])/deltax**2. #df/v(i-1)\n",
        "      matrix[i*2+1][i*2]=-2*(v[i+1]-2*v[i]+v[i-1])*u[i]/deltax**2-4*u[i]*(v[i]-v[i-1])/(deltax**2)+2*u[i-1]*(v[i]-v[i-1])/deltax**2 + 2/deltax**2 - v[i] #df/du(i)\n",
        "      matrix[i*2+1][i*2+1]=1/deltat+2*(u[i]/deltax)**2-2*u[i]*(u[i]-u[i-1])/deltax**2 -u[i]+2*v[i]#df/dv(i)\n",
        "      matrix[i*2+1][i*2+2]= -1/deltax**2       #df/du(i+1)\n",
        "      matrix[i*2+1][i*2+3]=-(u[i]/deltax)**2   #df/dv(i+1)\n",
        "  return matrix"
      ],
      "execution_count": 417,
      "outputs": []
    },
    {
      "cell_type": "code",
      "metadata": {
        "id": "G18xsfVFaOX3"
      },
      "source": [
        "def buildB(u,v, size, uprev, vprev):    #builds the right hand side vector. uprev and vprev are the values of u and v at the n timestep, before iteration \n",
        "  b=np.zeros(size*2)                    \n",
        "  b[0]=u[0]-.5                          #x=0 boundary\n",
        "  b[1]=v[0]-np.pi\n",
        "  for i in range(1,size-1):             #the given equations\n",
        "    b[i*2]=  (u[i]-uprev[i])/deltat-v[i]**2*(u[i+1]-2*u[i]+u[i-1])/deltax**2 - 2*v[i]*(v[i]-v[i-1])*(u[i]-u[i-1])/deltax**2 +u[i]*v[i]-u[i]**2 -10\n",
        "    b[i*2+1]=(v[i]-vprev[i])/deltat-u[i]**2*(v[i+1]-2*v[i]+v[i-1])/deltax**2 - 2*u[i]*(u[i]-u[i-1])*(v[i]-v[i-1])/deltax**2 -u[i]*v[i]+v[i]**2 - (u[i+1]-2*u[i]+u[i-1])/deltax**2\n",
        "  #x=1 boundry\n",
        "  b[size*2-2]=(u[size-1]-u[size-2])/deltax + np.sin(u[size-1]*v[size-1])-1/2\n",
        "  b[size*2-1]=(v[size-1]-v[size-2])/deltax - np.cos(u[size-1]*v[size-1])-1\n",
        "  return b"
      ],
      "execution_count": 418,
      "outputs": []
    },
    {
      "cell_type": "code",
      "metadata": {
        "colab": {
          "base_uri": "https://localhost:8080/",
          "height": 745
        },
        "id": "tgQVKiDaPjgH",
        "outputId": "9235e971-acf6-4520-9439-cf35d77af213"
      },
      "source": [
        "time=0\n",
        "\n",
        "for t in range(0,100):\n",
        "  time=time+deltat\n",
        "  uprev=np.copy(u)    #keep track of u and v before itereation (u and v at the n time level)\n",
        "  vprev=np.copy(v)\n",
        "\n",
        "  for iter in range(0, 50):   #max iterations is 50\n",
        "    delta=np.linalg.solve(buildJacobian(u,v,size), buildB(u,v,size,uprev,vprev))        #solve for the delta for each u and v \n",
        "\n",
        "    for i in range(0,size):     #subtract the delta from each u and v\n",
        "      u[i]=u[i]-delta[i*2]\n",
        "      v[i]=v[i]-delta[i*2+1]\n",
        "\n",
        "    u[0]=.5         #continue enforcing boundary conditions\n",
        "    v[0]=np.pi\n",
        "\n",
        "    if np.linalg.norm(delta)<10**-10:     #if the norm of delta is very small, no need to continue iterating\n",
        "      break\n",
        "\n",
        "print(\"Time\")\n",
        "print(time)\n",
        "print(\"\")\n",
        "print(\"U\")\n",
        "print(np.around((u),4))\n",
        "print(\" \")\n",
        "print(\"V\")\n",
        "print(np.around((v),4))\n",
        "print(\" \")\n",
        "\n",
        "x = np.linspace(0, 1, size)\n",
        "plt.plot( x,u, label=\"u\")\n",
        "plt.plot( x,v, label=\"v\")\n",
        "plt.legend(loc=\"right\")\n",
        "plt.show()"
      ],
      "execution_count": 419,
      "outputs": [
        {
          "output_type": "stream",
          "text": [
            "Time\n",
            "0.10000000000000007\n",
            "\n",
            "U\n",
            "[0.5    0.5587 0.622  0.6883 0.756  0.8238 0.8907 0.956  1.0193 1.08   1.1381 1.1933 1.2457 1.2951 1.3417 1.3855 1.4265 1.4648 1.5006 1.5339 1.5649 1.5936 1.6201 1.6447 1.6673 1.6881]\n",
            " \n",
            "V\n",
            "[3.1416 2.9832 2.8787 2.8126 2.7743 2.7562 2.7534 2.762  2.7795 2.8041 2.8345 2.8698 2.9094 2.9526 2.9993 3.0492 3.102  3.1578 3.2165 3.278  3.3424 3.4097 3.4801 3.5535 3.6302 3.7102]\n",
            " \n"
          ],
          "name": "stdout"
        },
        {
          "output_type": "display_data",
          "data": {
            "image/png": "[encoded data removed]",
            "text/plain": [
              "<Figure size 720x720 with 1 Axes>"
            ]
          },
          "metadata": {
            "tags": [],
            "needs_background": "light"
          }
        }
      ]
    }
  ]
}