{
  "nbformat": 4,
  "nbformat_minor": 0,
  "metadata": {
    "colab": {
      "name": "HW6Part1.ipynb",
      "provenance": [],
      "collapsed_sections": [],
      "authorship_tag": "ABX9TyP/MF1JDeXq2CxlrRp3kduJ",
      "include_colab_link": true
    },
    "kernelspec": {
      "name": "python3",
      "display_name": "Python 3"
    },
    "language_info": {
      "name": "python"
    }
  },
  "cells": [
    {
      "cell_type": "markdown",
      "metadata": {
        "id": "view-in-github",
        "colab_type": "text"
      },
      "source": [
        "<a href=\"https://colab.research.google.com/github/fengivan/382L-HW6/blob/main/HW6Part1.ipynb\" target=\"_parent\"><img src=\"https://colab.research.google.com/assets/colab-badge.svg\" alt=\"Open In Colab\"/></a>"
      ]
    },
    {
      "cell_type": "code",
      "metadata": {
        "id": "TV4s50MShjxs"
      },
      "source": [
        "import numpy as np\n",
        "import matplotlib.pyplot as plt\n",
        "np.set_printoptions(linewidth=np.inf)\n",
        "plt.rcParams['figure.figsize'] = [10, 10]"
      ],
      "execution_count": 64,
      "outputs": []
    },
    {
      "cell_type": "code",
      "metadata": {
        "colab": {
          "base_uri": "https://localhost:8080/",
          "height": 796
        },
        "id": "-tMzEnKzhojZ",
        "outputId": "b70fb29e-517b-45ff-8c29-180f6a8a7362"
      },
      "source": [
        "#initial conditions\n",
        "deltax=1/25\n",
        "deltat=.001\n",
        "u = np.zeros(26)\n",
        "v = np.zeros(26)\n",
        "for i in range(0,26):\n",
        "  u[i]=(deltax*i+1)/2\n",
        "  v[i]=np.pi\n",
        "\n",
        "print(\"Delta X\")\n",
        "print(deltax)\n",
        "print(\"\")\n",
        "print(\"Delta T\")\n",
        "print(deltat)\n",
        "print(\"\")\n",
        "print(\"U\")\n",
        "print(np.around((u),4))\n",
        "print(\" \")\n",
        "print(\"V\")\n",
        "print(np.around((v),4))\n",
        "print(\" \")\n",
        "\n",
        "x = np.linspace(0, 1, 26)\n",
        "plt.plot( x,u, label=\"u\")\n",
        "plt.plot( x,v, label=\"v\")\n",
        "plt.legend(loc=\"upper left\")\n",
        "plt.show()"
      ],
      "execution_count": 65,
      "outputs": [
        {
          "output_type": "stream",
          "text": [
            "Delta X\n",
            "0.04\n",
            "\n",
            "Delta T\n",
            "0.001\n",
            "\n",
            "U\n",
            "[0.5  0.52 0.54 0.56 0.58 0.6  0.62 0.64 0.66 0.68 0.7  0.72 0.74 0.76 0.78 0.8  0.82 0.84 0.86 0.88 0.9  0.92 0.94 0.96 0.98 1.  ]\n",
            " \n",
            "V\n",
            "[3.1416 3.1416 3.1416 3.1416 3.1416 3.1416 3.1416 3.1416 3.1416 3.1416 3.1416 3.1416 3.1416 3.1416 3.1416 3.1416 3.1416 3.1416 3.1416 3.1416 3.1416 3.1416 3.1416 3.1416 3.1416 3.1416]\n",
            " \n"
          ],
          "name": "stdout"
        },
        {
          "output_type": "display_data",
          "data": {
            "image/png": "[encoded data removed]",
            "text/plain": [
              "<Figure size 720x720 with 1 Axes>"
            ]
          },
          "metadata": {
            "tags": [],
            "needs_background": "light"
          }
        }
      ]
    },
    {
      "cell_type": "code",
      "metadata": {
        "id": "8--LOdAPoV_b"
      },
      "source": [
        "def buildABU(u, v):     #build A matrix and b vector for solving U(n+1)\n",
        "  B=np.zeros(26)\n",
        "  B[0]=.5\n",
        "  matrix=np.zeros((26,26))\n",
        "  matrix[0][0]=1\n",
        "  for i in range(1, 25):\n",
        "    a=-v[i]**2/(deltax**2)\n",
        "    b=2*v[i]**2/(deltax**2)+1/deltat-2*v[i]*(v[i]-v[i-1])/(deltax**2)+v[i]-u[i]\n",
        "    c=-v[i]**2/(deltax**2)+2*v[i]*(v[i]-v[i-1])/(deltax**2)\n",
        "    matrix[i][i-1]=c\n",
        "    matrix[i][i]=b\n",
        "    matrix[i][i+1]=a\n",
        "    B[i]=10+u[i]/deltat\n",
        "\n",
        "  matrix[25,25]=1\n",
        "  matrix[25,24]=-1\n",
        "  B[25]=deltax/2-deltax*np.sin(u[25]*v[25])\n",
        "  return matrix, B"
      ],
      "execution_count": 66,
      "outputs": []
    },
    {
      "cell_type": "code",
      "metadata": {
        "id": "y1NoBDkInZ8V"
      },
      "source": [
        "def buildABV(u, v):         #build A matrix and b vector for solving V(n+1)\n",
        "  B=np.zeros(26)\n",
        "  B[0]=np.pi\n",
        "  matrix=np.zeros((26,26))\n",
        "  matrix[0][0]=1\n",
        "  for i in range(1, 25):\n",
        "    a=-u[i]**2/(deltax**2)\n",
        "    b=2*u[i]**2/(deltax**2)+1/deltat-2*u[i]*(u[i]-u[i-1])/(deltax**2)+v[i]-u[i]\n",
        "    c=-u[i]**2/(deltax**2)+2*u[i]*(u[i]-u[i-1])/(deltax**2)\n",
        "    matrix[i][i-1]=c\n",
        "    matrix[i][i]=b\n",
        "    matrix[i][i+1]=a\n",
        "    B[i]=(u[i+1]-2*u[i]+u[i-1])/(deltax**2)+v[i]/deltat\n",
        "\n",
        "  matrix[25,25]=1\n",
        "  matrix[25,24]=-1\n",
        "  B[25]=deltax*(1+np.cos(u[25]*v[25]))\n",
        "  return matrix, B"
      ],
      "execution_count": 67,
      "outputs": []
    },
    {
      "cell_type": "code",
      "metadata": {
        "colab": {
          "base_uri": "https://localhost:8080/",
          "height": 745
        },
        "id": "WK_SjnQrYm2G",
        "outputId": "12775309-dcbf-4325-f0c5-d2907da3cd8b"
      },
      "source": [
        "time=0\n",
        "#itereate through all timesteps\n",
        "for i in range(0,100):\n",
        "  time=time+deltat\n",
        "  A, b = buildABU(u,v)      \n",
        "  u=np.linalg.solve(A,b)      #solve for u at n+1\n",
        "  A, b = buildABV(u,v)\n",
        "  v=np.linalg.solve(A,b)      #solve for v at n+1\n",
        "\n",
        "print(\"Time\")\n",
        "print(time)\n",
        "print(\"\")\n",
        "print(\"U\")\n",
        "print(np.around((u),4))\n",
        "print(\" \")\n",
        "print(\"V\")\n",
        "print(np.around((v),4))\n",
        "print(\" \")\n",
        "\n",
        "x = np.linspace(0, 1, 26)\n",
        "plt.plot( x,u, label=\"u\")\n",
        "plt.plot( x,v, label=\"v\")\n",
        "plt.legend(loc=\"right\")\n",
        "plt.show()"
      ],
      "execution_count": 68,
      "outputs": [
        {
          "output_type": "stream",
          "text": [
            "Time\n",
            "0.10000000000000007\n",
            "\n",
            "U\n",
            "[0.5    0.5587 0.622  0.6884 0.7562 0.8241 0.8912 0.9568 1.0203 1.0813 1.1397 1.1952 1.2479 1.2977 1.3446 1.3886 1.4299 1.4685 1.5045 1.5381 1.5692 1.5981 1.6248 1.6494 1.6721 1.693 ]\n",
            " \n",
            "V\n",
            "[3.1416 2.9821 2.8765 2.8095 2.7702 2.7514 2.7477 2.7556 2.7725 2.7966 2.8264 2.8613 2.9004 2.9432 2.9895 3.0391 3.0917 3.1472 3.2057 3.2671 3.3314 3.3986 3.4689 3.5423 3.6189 3.6989]\n",
            " \n"
          ],
          "name": "stdout"
        },
        {
          "output_type": "display_data",
          "data": {
            "image/png": "[encoded data removed]",
            "text/plain": [
              "<Figure size 720x720 with 1 Axes>"
            ]
          },
          "metadata": {
            "tags": [],
            "needs_background": "light"
          }
        }
      ]
    }
  ]
}